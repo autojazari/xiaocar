{
 "cells": [
  {
   "cell_type": "code",
   "execution_count": 36,
   "metadata": {
    "collapsed": true
   },
   "outputs": [],
   "source": [
    "import numpy as np\n"
   ]
  },
  {
   "cell_type": "code",
   "execution_count": 37,
   "metadata": {
    "collapsed": true
   },
   "outputs": [],
   "source": [
    "filenames = glob.glob(\"../data/*.jpg\")\n",
    "\n",
    "labels = []\n",
    "\n",
    "images = []\n",
    "\n",
    "for filename in filenames:\n",
    "    # 148701337247041-0.773193359375-0.773193359375\n",
    "    \n",
    "    filename = filename.replace('.jpg', '')\n",
    "    \n",
    "    parts = filename.split('-')\n",
    "    \n",
    "    if float(parts[1]) == 0. or float(parts[2]) == 0.:\n",
    "        continue\n",
    "    \n",
    "    images.append(filename)\n",
    "    \n",
    "    labels.append([float(parts[1]), float(parts[2])])\n",
    "    "
   ]
  },
  {
   "cell_type": "code",
   "execution_count": 42,
   "metadata": {
    "collapsed": false
   },
   "outputs": [],
   "source": [
    "bins = np.linspace(0, 1, 100)\n",
    "hist, bin_edges = np.histogram(labels, bins=bins)"
   ]
  },
  {
   "cell_type": "code",
   "execution_count": 44,
   "metadata": {
    "collapsed": false
   },
   "outputs": [
    {
     "data": {
      "text/plain": [
       "array([ 0,  0,  0,  0,  0,  0,  0,  0,  0,  0,  1,  0,  0,  0,  0,  0,  0,\n",
       "        0,  0,  0,  0,  0,  1,  1,  0,  0,  1,  0,  2,  2,  1,  0,  1,  0,\n",
       "        0,  0,  0,  0,  2,  3,  0,  2,  0,  0,  0,  0,  6,  2,  1,  1,  0,\n",
       "        1,  0,  0,  0,  3,  0,  6, 14,  5,  0,  0,  0,  9,  1,  3,  6,  2,\n",
       "        1,  5,  9,  9, 12,  9,  2,  2,  4,  3,  6,  4,  0,  0,  0,  0,  0,\n",
       "        0,  2,  2,  5,  0,  4,  2,  2,  0,  0,  0,  0,  0,  0])"
      ]
     },
     "execution_count": 44,
     "metadata": {},
     "output_type": "execute_result"
    }
   ],
   "source": [
    "hist"
   ]
  },
  {
   "cell_type": "code",
   "execution_count": null,
   "metadata": {
    "collapsed": true
   },
   "outputs": [],
   "source": []
  }
 ],
 "metadata": {
  "kernelspec": {
   "display_name": "Python 3",
   "language": "python",
   "name": "python3"
  },
  "language_info": {
   "codemirror_mode": {
    "name": "ipython",
    "version": 3
   },
   "file_extension": ".py",
   "mimetype": "text/x-python",
   "name": "python",
   "nbconvert_exporter": "python",
   "pygments_lexer": "ipython3",
   "version": "3.5.2"
  }
 },
 "nbformat": 4,
 "nbformat_minor": 2
}
