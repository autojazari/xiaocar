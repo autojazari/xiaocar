{
 "cells": [
  {
   "cell_type": "code",
   "execution_count": 9,
   "metadata": {
    "collapsed": true
   },
   "outputs": [],
   "source": [
    "import csv\n",
    "import glob"
   ]
  },
  {
   "cell_type": "code",
   "execution_count": 10,
   "metadata": {
    "collapsed": false
   },
   "outputs": [],
   "source": [
    "filenames = glob.glob(\"../data/*.jpg\")\n",
    "\n",
    "labels = []\n",
    "\n",
    "images = []\n",
    "\n",
    "for filename in filenames:\n",
    "    # 148701337247041-0.773193359375-0.773193359375\n",
    "    \n",
    "    filename = filename.replace('.jpg', '')\n",
    "    \n",
    "    parts = filename.split('-')\n",
    "    \n",
    "    if float(parts[1]) == 0. or float(parts[2]) == 0.:\n",
    "        continue\n",
    "    \n",
    "    images.append(filename)\n",
    "    \n",
    "    labels.append([float(parts[1]), float(parts[2])])"
   ]
  },
  {
   "cell_type": "code",
   "execution_count": 14,
   "metadata": {
    "collapsed": false
   },
   "outputs": [],
   "source": [
    "with open('training.csv', 'w') as _f:\n",
    "    writer = csv.writer(_f, delimiter=',')\n",
    "    for i in range(len(images)):\n",
    "        writer.writerow([images[i], labels[i][0], labels[i][1]])"
   ]
  },
  {
   "cell_type": "code",
   "execution_count": null,
   "metadata": {
    "collapsed": false
   },
   "outputs": [],
   "source": []
  },
  {
   "cell_type": "code",
   "execution_count": null,
   "metadata": {
    "collapsed": true
   },
   "outputs": [],
   "source": []
  }
 ],
 "metadata": {
  "kernelspec": {
   "display_name": "Python 3",
   "language": "python",
   "name": "python3"
  },
  "language_info": {
   "codemirror_mode": {
    "name": "ipython",
    "version": 3
   },
   "file_extension": ".py",
   "mimetype": "text/x-python",
   "name": "python",
   "nbconvert_exporter": "python",
   "pygments_lexer": "ipython3",
   "version": "3.5.2"
  }
 },
 "nbformat": 4,
 "nbformat_minor": 2
}
