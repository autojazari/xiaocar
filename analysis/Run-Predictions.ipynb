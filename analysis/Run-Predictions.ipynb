{
 "cells": [
  {
   "cell_type": "code",
   "execution_count": 11,
   "metadata": {
    "collapsed": false
   },
   "outputs": [],
   "source": [
    "import os\n",
    "import json\n",
    "\n",
    "import cv2\n",
    "\n",
    "from keras.models import model_from_json\n",
    "\n",
    "global model\n",
    "\n"
   ]
  },
  {
   "cell_type": "code",
   "execution_count": 12,
   "metadata": {
    "collapsed": true
   },
   "outputs": [],
   "source": [
    "_location__ = '/home/sameh/development/XiaoCar/model'\n",
    "\n",
    "model_file = os.path.join(_location__, 'outputs/robot.json')\n",
    "weights_file = os.path.join(_location__, \"weights-improvement-128-0.0533.h5\")\n",
    "\n",
    "with open(model_file, 'r') as jfile:\n",
    "    model = model_from_json(json.load(jfile))\n",
    "\n",
    "model.compile(\"adam\", \"mse\")\n",
    "\n",
    "model.load_weights(weights_file)\n",
    "\n",
    "def predict(frame):\n",
    "    image = cv2.imread(frame, 3)\n",
    "\n",
    "    img = cv2.resize(image, (64, 48))\n",
    "\n",
    "    img = img.reshape((1, 48, 64, 3))\n",
    "\n",
    "    return model.predict(img, batch_size=1)\n"
   ]
  },
  {
   "cell_type": "code",
   "execution_count": 13,
   "metadata": {
    "collapsed": true
   },
   "outputs": [],
   "source": [
    "frame = _location__+'/../analysis/auto/14872819810517018-0-0.jpg'"
   ]
  },
  {
   "cell_type": "code",
   "execution_count": 14,
   "metadata": {
    "collapsed": false
   },
   "outputs": [
    {
     "data": {
      "text/plain": [
       "True"
      ]
     },
     "execution_count": 14,
     "metadata": {},
     "output_type": "execute_result"
    }
   ],
   "source": [
    "import os\n",
    "os.path.exists(frame)"
   ]
  },
  {
   "cell_type": "code",
   "execution_count": 15,
   "metadata": {
    "collapsed": false
   },
   "outputs": [
    {
     "name": "stdout",
     "output_type": "stream",
     "text": [
      "[[ 0.34184051  0.33299896]]\n"
     ]
    }
   ],
   "source": [
    "print(predict(frame))"
   ]
  },
  {
   "cell_type": "code",
   "execution_count": 16,
   "metadata": {
    "collapsed": false
   },
   "outputs": [
    {
     "name": "stdout",
     "output_type": "stream",
     "text": [
      "[[ 0.34184051  0.33299896]]\n"
     ]
    }
   ],
   "source": [
    "print(predict(frame))"
   ]
  },
  {
   "cell_type": "code",
   "execution_count": null,
   "metadata": {
    "collapsed": true
   },
   "outputs": [],
   "source": []
  }
 ],
 "metadata": {
  "kernelspec": {
   "display_name": "Python 3",
   "language": "python",
   "name": "python3"
  },
  "language_info": {
   "codemirror_mode": {
    "name": "ipython",
    "version": 3
   },
   "file_extension": ".py",
   "mimetype": "text/x-python",
   "name": "python",
   "nbconvert_exporter": "python",
   "pygments_lexer": "ipython3",
   "version": "3.5.2"
  }
 },
 "nbformat": 4,
 "nbformat_minor": 2
}
